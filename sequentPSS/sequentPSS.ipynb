{
 "cells": [
  {
   "cell_type": "code",
   "execution_count": 75,
   "metadata": {
    "tags": []
   },
   "outputs": [],
   "source": [
    "import numpy as np\n",
    "import pandas as pd\n",
    "import random2\n",
    "import os #os의 경우 기본적으로 주어지기 때문에 setup.py에 하지 않는다."
   ]
  },
  {
   "cell_type": "markdown",
   "metadata": {
    "tags": []
   },
   "source": [
    "## data"
   ]
  },
  {
   "cell_type": "code",
   "execution_count": 102,
   "metadata": {
    "tags": []
   },
   "outputs": [],
   "source": [
    "# change path to relative path - only for publishing\n",
    "current_directory = os.path.dirname(os.path.abspath(__file__))\n",
    "os.chdir(current_directory)\n",
    "\n",
    "path = \"./sampleData/concatenated_df.csv\"\n",
    "simul_data = pd.read_csv(path)\n",
    "\n",
    "oPath = \"./sampleData/\"\n",
    "O1_csv = np.loadtxt(oPath + \"O1.txt\")\n",
    "O2_csv = np.loadtxt(oPath + \"O2.txt\")\n",
    "O3_csv = np.loadtxt(oPath + \"O3.txt\")"
   ]
  },
  {
   "cell_type": "markdown",
   "metadata": {},
   "source": [
    "## simulation code"
   ]
  },
  {
   "cell_type": "code",
   "execution_count": 103,
   "metadata": {
    "tags": []
   },
   "outputs": [],
   "source": [
    "def simple_Simulation(p1: 'int', p2: 'int', p3: 'int', n = 10):\n",
    "    '''\n",
    "    to make simple simulation\n",
    "    \n",
    "    Parameters\n",
    "    ----------\n",
    "    p1 : parameter 1. range: 1 to 5\n",
    "    p2 : parameter 2. range: 1 to 5\n",
    "    p3 : parameter 3. range: 1 to 5\n",
    "    n : the number of simulation runs\n",
    "\n",
    "    Returns\n",
    "    -------\n",
    "    DataFrame\n",
    "        A comma-separated values (csv) file is returned as two-dimensional\n",
    "        data structure with labeled axes.\n",
    "\n",
    "    Examples\n",
    "    --------\n",
    "    >>> simple_Simulation(p1 = 1, p2 = 3, p3 = 2, n = 11)\n",
    "    '''\n",
    "    \n",
    "    global simul_data # globally declare\n",
    "   \n",
    "    # select data\n",
    "    condition = (simul_data['p1'] == p1) & (simul_data['p2'] == p2) & (simul_data['p3'] == p3)\n",
    "    filtered_df = simul_data[condition]\n",
    "    \n",
    "    dfs = []\n",
    "    for i in range(n): # now, extracts by #n\n",
    "        \n",
    "        uniq_num = random2.choice(pd.unique(filtered_df['uniq_num']))\n",
    "        chosen_df = filtered_df[filtered_df['uniq_num'] == uniq_num] #filter only uniq_num\n",
    "    \n",
    "        # now make new simulation data\n",
    "        new_data = {\n",
    "            'p1': [chosen_df['p1'].iloc[0]],\n",
    "            'p2': [chosen_df['p2'].iloc[0]],\n",
    "            'p3': [chosen_df['p3'].iloc[0]],\n",
    "            'y1': [sorted(chosen_df['y1'].tolist())],\n",
    "            'y2': [sorted(chosen_df['y2'].tolist())],\n",
    "            'y3': [sorted(chosen_df['y3'].tolist())]\n",
    "        }\n",
    "        \n",
    "        chosen_df = pd.DataFrame(new_data)\n",
    "\n",
    "        dfs.append(chosen_df) # appended chosen_df\n",
    "        \n",
    "    result_df = pd.concat(dfs, axis=0, ignore_index=True) \n",
    "    \n",
    "    # sort the list in the columns by ascending order\n",
    "    def sort_list(lst):\n",
    "        return sorted(lst)\n",
    "\n",
    "    # apply 메서드를 사용하여 각 셀의 리스트들을 오름차순으로 정렬\n",
    "    result_df['y1'] = result_df['y1'].apply(sort_list)\n",
    "    result_df['y2'] = result_df['y2'].apply(sort_list)\n",
    "    result_df['y3'] = result_df['y3'].apply(sort_list)\n",
    "\n",
    "    \n",
    "    return result_df"
   ]
  },
  {
   "cell_type": "markdown",
   "metadata": {},
   "source": [
    "## 1) preprocessing (1) - Determine a criterions for calibration"
   ]
  },
  {
   "cell_type": "code",
   "execution_count": 104,
   "metadata": {},
   "outputs": [],
   "source": [
    "# run multiple simulations\n",
    "\n",
    "def multiple_simple_simulation(p1_list, p2_list, p3_list, M = 150, u = 0.1, k = 3):\n",
    "    '''\n",
    "    to make simple simulation results df by multiple parameters\n",
    "    \n",
    "    Parameters\n",
    "    ----------\n",
    "    p1: parameter 1. range: 1 to 5\n",
    "    p2: parameter 2. range: 1 to 5\n",
    "    p3: parameter 3. range: 1 to 5\n",
    "    M: MonteCarlo index (default:100, too low:low accuracy, too high:computational intensity) \n",
    "    u = leniency index (default:0.1, too low:overfit, too high:uncertainty)\n",
    "    k = the number of parameters (3)\n",
    "\n",
    "    Returns\n",
    "    -------\n",
    "    DataFrame\n",
    "        A comma-separated values (csv) file is returned as two-dimensional\n",
    "        data structure with labeled axes.\n",
    "\n",
    "    Examples\n",
    "    --------\n",
    "    >>> multi_simul_df = multiple_simple_simulation(p1_list, p2_list, p3_list, M = 150, u = 0.1, k = 3)\n",
    "    '''    \n",
    "    \n",
    "    global simple_Simulation\n",
    "    \n",
    "    # list for saving all results dfs\n",
    "    prep1_dfs = []\n",
    "    \n",
    "    for i in range(M*(2*k + 2)): #1200 times\n",
    "        # set parameter space\n",
    "        p_1 = random2.choice(p1_list)\n",
    "        p_2 = random2.choice(p2_list)\n",
    "        p_3 = random2.choice(p3_list)\n",
    "\n",
    "        # run model and save\n",
    "        tem_prep1_data = simple_Simulation(p1 = p_1, p2 = p_2, p3 = p_3, n = 1)\n",
    "\n",
    "        # append temporal result to list\n",
    "        prep1_dfs.append(tem_prep1_data)\n",
    "\n",
    "    result_df = pd.concat(prep1_dfs, axis=0, ignore_index=True)\n",
    "\n",
    "    return result_df"
   ]
  },
  {
   "cell_type": "code",
   "execution_count": null,
   "metadata": {},
   "outputs": [],
   "source": [
    "# Preprocessing (1): determining a criterion for calibration\n",
    "\n"
   ]
  },
  {
   "cell_type": "code",
   "execution_count": 94,
   "metadata": {},
   "outputs": [],
   "source": [
    "# 사용자:\n",
    "# 시뮬레이션을 무작위로 돌린다.\n",
    "\n",
    "p1_list = [1,2,3,4,5]\n",
    "p2_list = [1,2,3,4,5]\n",
    "p3_list = [1,2,3,4,5]\n",
    "\n",
    "\n",
    "# ---  run simulations for M(2k+2) times ---\n",
    "multi_simul_df = multiple_simple_simulation(p1_list, p2_list, p3_list, M = 150, u = 0.1, k = 3) # set hyper parameters\n",
    "\n"
   ]
  },
  {
   "cell_type": "code",
   "execution_count": null,
   "metadata": {},
   "outputs": [],
   "source": []
  }
 ],
 "metadata": {
  "kernelspec": {
   "display_name": "Python 3 (ipykernel)",
   "language": "python",
   "name": "python3"
  },
  "language_info": {
   "codemirror_mode": {
    "name": "ipython",
    "version": 3
   },
   "file_extension": ".py",
   "mimetype": "text/x-python",
   "name": "python",
   "nbconvert_exporter": "python",
   "pygments_lexer": "ipython3",
   "version": "3.11.3"
  }
 },
 "nbformat": 4,
 "nbformat_minor": 4
}
