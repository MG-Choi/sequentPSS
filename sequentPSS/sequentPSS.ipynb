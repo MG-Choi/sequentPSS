{
 "cells": [
  {
   "cell_type": "code",
   "execution_count": 1,
   "metadata": {
    "tags": []
   },
   "outputs": [],
   "source": [
    "import numpy as np\n",
    "import pandas as pd\n",
    "import random2\n",
    "import os #os의 경우 기본적으로 주어지기 때문에 setup.py에 하지 않는다."
   ]
  },
  {
   "cell_type": "code",
   "execution_count": 2,
   "metadata": {
    "tags": []
   },
   "outputs": [],
   "source": [
    "from SALib.analyze import sobol\n",
    "from SALib.analyze import fast\n",
    "from SALib.analyze import rbd_fast\n",
    "from SALib.analyze import delta"
   ]
  },
  {
   "cell_type": "markdown",
   "metadata": {
    "tags": []
   },
   "source": [
    "## data"
   ]
  },
  {
   "cell_type": "code",
   "execution_count": 3,
   "metadata": {
    "tags": []
   },
   "outputs": [],
   "source": [
    "# change path to relative path - only for publishing\n",
    "current_directory = os.path.dirname(os.path.abspath(__file__))\n",
    "os.chdir(current_directory)\n",
    "\n",
    "path = \"./sampleData/concatenated_df.csv\"\n",
    "simul_data = pd.read_csv(path)\n",
    "\n",
    "oPath = \"./sampleData/\"\n",
    "O1 = sorted(np.loadtxt(oPath + \"O1.txt\"))\n",
    "O2 = sorted(np.loadtxt(oPath + \"O2.txt\"))\n",
    "O3 = sorted(np.loadtxt(oPath + \"O3.txt\"))\n",
    "\n"
   ]
  },
  {
   "cell_type": "markdown",
   "metadata": {},
   "source": [
    "## simulation code"
   ]
  },
  {
   "cell_type": "code",
   "execution_count": 4,
   "metadata": {
    "tags": []
   },
   "outputs": [],
   "source": [
    "def simple_Simulation(x1: 'int', x2: 'int', x3: 'int', n = 10):\n",
    "    '''\n",
    "    to make simple simulation\n",
    "    \n",
    "    Parameters\n",
    "    ----------\n",
    "    x1 : parameter 1. range: 1 to 5\n",
    "    x2 : parameter 2. range: 1 to 5\n",
    "    x3 : parameter 3. range: 1 to 5\n",
    "    n : the number of simulation runs\n",
    "\n",
    "    Returns\n",
    "    -------\n",
    "    DataFrame\n",
    "        A comma-separated values (csv) file is returned as two-dimensional\n",
    "        data structure with labeled axes.\n",
    "\n",
    "    Examples\n",
    "    --------\n",
    "    >>> simple_Simulation(x1 = 1, x2 = 3, x3 = 2, n = 11)\n",
    "    '''\n",
    "    \n",
    "    global simul_data # globally declare\n",
    "   \n",
    "    # select data\n",
    "    condition = (simul_data['x1'] == x1) & (simul_data['x2'] == x2) & (simul_data['x3'] == x3)\n",
    "    filtered_df = simul_data[condition]\n",
    "    \n",
    "    dfs = []\n",
    "    for i in range(n): # now, extracts by #n\n",
    "        \n",
    "        uniq_num = random2.choice(pd.unique(filtered_df['uniq_num']))\n",
    "        chosen_df = filtered_df[filtered_df['uniq_num'] == uniq_num] #filter only uniq_num\n",
    "    \n",
    "        # now make new simulation data\n",
    "        new_data = {\n",
    "            'x1': [chosen_df['x1'].iloc[0]],\n",
    "            'x2': [chosen_df['x2'].iloc[0]],\n",
    "            'x3': [chosen_df['x3'].iloc[0]],\n",
    "            'y1': [sorted(chosen_df['y1'].tolist())],\n",
    "            'y2': [sorted(chosen_df['y2'].tolist())],\n",
    "            'y3': [sorted(chosen_df['y3'].tolist())]\n",
    "        }\n",
    "        \n",
    "        chosen_df = pd.DataFrame(new_data)\n",
    "\n",
    "        dfs.append(chosen_df) # appended chosen_df\n",
    "        \n",
    "    result_df = pd.concat(dfs, axis=0, ignore_index=True) \n",
    "    \n",
    "    # sort the list in the columns by ascending order\n",
    "    def sort_list(lst):\n",
    "        return sorted(lst)\n",
    "\n",
    "    # apply 메서드를 사용하여 각 셀의 리스트들을 오름차순으로 정렬\n",
    "    result_df['y1'] = result_df['y1'].apply(sort_list)\n",
    "    result_df['y2'] = result_df['y2'].apply(sort_list)\n",
    "    result_df['y3'] = result_df['y3'].apply(sort_list)\n",
    "\n",
    "    \n",
    "    return result_df"
   ]
  },
  {
   "cell_type": "markdown",
   "metadata": {},
   "source": [
    "## 1) preprocessing (1) - Determine a criterions for calibration"
   ]
  },
  {
   "cell_type": "code",
   "execution_count": 19,
   "metadata": {},
   "outputs": [],
   "source": [
    "# run multiple simulations\n",
    "\n",
    "def multiple_simple_simulation(x1_list, x2_list, x3_list, M = 150, k = 3):\n",
    "    '''\n",
    "    to make simple simulation results df by multiple parameters\n",
    "    \n",
    "    Parameters\n",
    "    ----------\n",
    "    x1: parameter 1. range: 1 to 5\n",
    "    x2: parameter 2. range: 1 to 5\n",
    "    x3: parameter 3. range: 1 to 5\n",
    "    M: MonteCarlo index (default:100, too low:low accuracy, too high:computational intensity) \n",
    "    k = the number of parameters (3)\n",
    "\n",
    "    Returns\n",
    "    -------\n",
    "    DataFrame\n",
    "        A comma-separated values (csv) file is returned as two-dimensional\n",
    "        data structure with labeled axes.\n",
    "\n",
    "    Examples\n",
    "    --------\n",
    "    >>> multi_simul_df = multiple_simple_simulation(x1_list, x2_list, x3_list, M = 150, u = 0.1, k = 3)\n",
    "    '''    \n",
    "    \n",
    "    global simple_Simulation\n",
    "    \n",
    "    # list for saving all results dfs\n",
    "    prep1_dfs = []\n",
    "    \n",
    "    for i in range(M*(2*k + 2)): #1200 times\n",
    "        # set parameter space\n",
    "        x_1 = random2.choice(x1_list)\n",
    "        x_2 = random2.choice(x2_list)\n",
    "        x_3 = random2.choice(x3_list)\n",
    "\n",
    "        # run model and save\n",
    "        tem_prep1_data = simple_Simulation(x1 = x_1, x2 = x_2, x3 = x_3, n = 1)\n",
    "\n",
    "        # append temporal result to list\n",
    "        prep1_dfs.append(tem_prep1_data)\n",
    "\n",
    "    result_df = pd.concat(prep1_dfs, axis=0, ignore_index=True)\n",
    "\n",
    "    return result_df"
   ]
  },
  {
   "cell_type": "code",
   "execution_count": 20,
   "metadata": {
    "tags": []
   },
   "outputs": [],
   "source": [
    "# Preprocessing (1): determining a criterion for calibration\n",
    "\n",
    "#def prep1_criterion():\n",
    "\n",
    "def prep1_criterion(O_list, multi_simul_df, u, k):\n",
    "    '''\n",
    "    As a preprocessing step, the root mean square error (RMSE) is calculated to determine the criterion for calibration.\n",
    "    \n",
    "    Parameters\n",
    "    ----------\n",
    "    O_list: list that includes observed data\n",
    "    multi_simul_df: result of multiple simulation\n",
    "    u: leniency index (default:0.1, too low:overfit, too high:uncertainty)\n",
    "    k: the number of parameters (3)\n",
    "    \n",
    "    * If there are multiple y columns in multi_simul_df, they should be denoted as y1, y2, y3, y4, and so on.\n",
    "    * Likewise, p column should be in the form of p1, p2, p3, p4, and so on.\n",
    "\n",
    "    Returns\n",
    "    -------\n",
    "    DataFrame\n",
    "        A comma-separated values (csv) file is returned as two-dimensional\n",
    "        data structure with labeled axes.\n",
    "\n",
    "    Examples\n",
    "    --------\n",
    "    >>> rmse_sel_df, multi_simul_df = prep1_criterion(O_list, multi_simul_df, u, k) \n",
    "    '''        \n",
    "    \n",
    "    multi_simul_df_temp = multi_simul_df.copy()\n",
    "    \n",
    "    # --- func for RMSE calculation ---\n",
    "    def rmse(actual, predicted):\n",
    "        return np.sqrt(np.mean((np.array(actual) - np.array(predicted))**2))\n",
    "\n",
    "\n",
    "    # --- add combinations of y ---\n",
    "    comb_columns = [col for col in multi_simul_df_temp.columns if col.startswith('x')] # if the comlumn name starts with x\n",
    "    multi_simul_df_temp['comb'] = multi_simul_df_temp[comb_columns].apply(lambda row: list(row), axis=1)\n",
    "\n",
    "    \n",
    "    # --- add new columns of rmse between y columns and O_list ---\n",
    "    for i, col in enumerate(multi_simul_df_temp.columns):\n",
    "        if col.startswith('y'):\n",
    "            col_name = 'rmse_O' + col[1:]\n",
    "            # print(col[1:])\n",
    "            multi_simul_df_temp[col_name] = multi_simul_df_temp[col].apply(lambda x: rmse(x, O_list[int(col[1:]) - 1]))\n",
    "    \n",
    "    # --- now, we need to calculate criterions for calibration for each y--- \n",
    "    # comb는 괜히 구함. 나중에 써먹기\n",
    "    # 여기서는 rmse_O1, rmse_O2,... 등의 최소, 최대값을 구하고, rmse_sel_yn =  Y_j=Min(〖RMSE〗_tem )+(Max(〖RMSE〗_tem )-Min(〖RMSE〗_tem ))*μ  을 구하면 됌.\n",
    "    \n",
    "    # rmse_O 컬럼들 선택\n",
    "    rmse_O_columns = [col for col in multi_simul_df_temp.columns if col.startswith('rmse_O')]\n",
    "\n",
    "    # 각 rmse_O 컬럼들의 최소값과 최댓값 구하기\n",
    "    min_values = multi_simul_df_temp[rmse_O_columns].min()\n",
    "    max_values = multi_simul_df_temp[rmse_O_columns].max()\n",
    "\n",
    "    # display(multi_simul_df_temp.head(2))\n",
    "    \n",
    "    # --- now, calculate RMSEsel for each y.\n",
    "    # select rmse_O_ columns\n",
    "    rmse_O_columns = [col for col in multi_simul_df_temp.columns if col.startswith('rmse_O')]\n",
    "\n",
    "    # save the result by creating another df\n",
    "    rmse_sel_df = pd.DataFrame()\n",
    "\n",
    "    for col in rmse_O_columns:\n",
    "        rmse_min = min_values[col]\n",
    "        rmse_max = max_values[col]\n",
    "        # print(col, rmse_min, rmse_max)\n",
    "        # add the calculation result to new columns\n",
    "        rmse_sel_df[col] = [rmse_min + (rmse_max - rmse_min) * u]\n",
    "        rmse_sel = rmse_min + (rmse_max - rmse_min) * u\n",
    "        \n",
    "        # new columns for calculation\n",
    "        multi_simul_df_temp[col + '_sel'] = rmse_sel\n",
    "    \n",
    "        \n",
    "\n",
    "    return rmse_sel_df, multi_simul_df_temp\n",
    "    \n",
    "    \n"
   ]
  },
  {
   "cell_type": "markdown",
   "metadata": {},
   "source": [
    "## 2) preprocessing (2) - Sorting Y and X"
   ]
  },
  {
   "cell_type": "code",
   "execution_count": 7,
   "metadata": {
    "tags": []
   },
   "outputs": [],
   "source": [
    "def sorting_Y(multi_simul_df_rmse_sel):\n",
    "    '''\n",
    "    Count the cases where 'rmse' is smaller than 'rmse_sel'. If the counts are higher, that 'y' is calibrated first.\n",
    "    \n",
    "    Parameters\n",
    "    ----------\n",
    "    multi_simul_df_rmse_sel: result of multiple simulation that includes rmse and rmse_sel\n",
    "    \n",
    "    Returns\n",
    "    -------\n",
    "    DataFrame\n",
    "        A comma-separated values (csv) file is returned as two-dimensional\n",
    "        data structure with labeled axes.\n",
    "\n",
    "    Examples\n",
    "    --------\n",
    "    >>> y_seq_df = sorting_Y(multi_simul_df_rmse_sel)\n",
    "    '''          \n",
    "    \n",
    "    # Columns that starts with rmse_O\n",
    "    rmse_cols = [col for col in multi_simul_df_rmse_sel.columns if col.startswith('rmse_O')]\n",
    "    num_rmse_cols = int(len(rmse_cols)/2)\n",
    "    num_rmse_cols\n",
    "    \n",
    "    # Count rows that satisfies the condition (rmse < rmse_sel)\n",
    "    result_df = pd.DataFrame()\n",
    "    \n",
    "    for i in range(1, num_rmse_cols + 1):\n",
    "        rmse_col = f'rmse_O{i}'\n",
    "        sel_col = f'rmse_O{i}_sel'\n",
    "        count = multi_simul_df_rmse_sel[multi_simul_df_rmse_sel[rmse_col] < multi_simul_df_rmse_sel[sel_col]].shape[0]\n",
    "        \n",
    "        y_col = f'y{i}' # y_seq_df\n",
    "        # y_seq_df = y_seq_df.append({'y': y_col, 'count': count}, ignore_index=True)\n",
    "\n",
    "        y_col = f'y{i}'\n",
    "        y_seq_df = pd.DataFrame({'y': [y_col], 'count': [count]})\n",
    "        result_df = pd.concat([result_df, y_seq_df], ignore_index=True)\n",
    "        \n",
    "    # 'count' 컬럼을 기준으로 내림차순 정렬하여 'y' 값을 출력\n",
    "    sorted_y_seq_df = result_df.sort_values(by='count', ascending=False)\n",
    "\n",
    "    print('The order of Ys:', sorted_y_seq_df['y'].to_list())\n",
    "    \n",
    "    return result_df"
   ]
  },
  {
   "cell_type": "code",
   "execution_count": 8,
   "metadata": {
    "tags": []
   },
   "outputs": [],
   "source": [
    "def sorting_X(problem: dict, multi_simul_df_rmse_sel, GSA = 'RBD-FAST'):\n",
    "    \n",
    "    '''\n",
    "    \n",
    "    Sobol: Sobol’ Sensitivity Analysis\n",
    "    FAST: Fourier Amplitude Sensitivity Test\n",
    "    RBD-FAST: Random Balance Designs Fourier Amplitude Sensitivity Test\n",
    "    Delta: Delta Moment-Independent Measure\n",
    "    '''\n",
    "    # x_array\n",
    "    Xs = np.array(multi_simul_df_rmse_sel['comb'].to_list())\n",
    "    \n",
    "    # 'rmse_O'로 시작하고 '_sel'이 없는 컬럼들을 뽑아서 모든 값을 array로 만들어서 리스트에 저장\n",
    "    rmse_o_columns = [col for col in multi_simul_df_rmse_sel.columns if col.startswith('rmse_O') and not col.endswith('_sel')]\n",
    "    y_list = [np.array(multi_simul_df_rmse_sel[col]) for col in rmse_o_columns]\n",
    "\n",
    "\n",
    "    Si_list = []\n",
    "\n",
    "    for y in y_list:\n",
    "        \n",
    "        if GSA == 'Sobol':\n",
    "            Si = sobol.analyze(problem, y)\n",
    "            # print(Si['S1'])\n",
    "        elif GSA == 'FAST':\n",
    "            Si = fast.analyze(problem, y)\n",
    "        elif GSA == 'RBD-FAST':\n",
    "            Si = rbd_fast.analyze(problem, Xs, y)\n",
    "        elif GSA == 'Delta':\n",
    "            Si = delta.analyze(problem, Xs, y)\n",
    "            \n",
    "        Si_list.append(Si['S1']) # the first-order sensitivity indices\n",
    "    \n",
    "    # --- Now, we will return each first order sensitivity index\n",
    "    # calculate average of sensitiviry indices\n",
    "    averages = [sum(column) / len(column) for column in zip(*Si_list)]\n",
    "\n",
    "    # new dataframe\n",
    "    si_df = pd.DataFrame()\n",
    "\n",
    "    # insert x1, x2, x2... into 'Xs' column\n",
    "    si_df['Xs'] = [f'x{i}' for i in range(1, len(averages) + 1)]\n",
    "\n",
    "    # calculate average of Si and put those to 'first_order_Si' column\n",
    "    si_df['first_order_Si'] = averages\n",
    "    \n",
    "            \n",
    "    # print 'x' by decending order based on 'count' column\n",
    "    sorted_x_seq_df = si_df.sort_values(by='first_order_Si', ascending=False)\n",
    "\n",
    "    print('The order of Xs:', sorted_x_seq_df['Xs'].to_list())\n",
    "    \n",
    "    \n",
    "    return si_df"
   ]
  },
  {
   "cell_type": "markdown",
   "metadata": {},
   "source": [
    "## 3) Parameter space searching and calibration"
   ]
  },
  {
   "cell_type": "code",
   "execution_count": 47,
   "metadata": {
    "tags": []
   },
   "outputs": [],
   "source": [
    "# run multiple simulations\n",
    "\n",
    "def fix_param_simple_simulation(x1_list, x2_list, x3_list, fix_x: str, M = 100):\n",
    "    '''\n",
    "    to make multiple simulation when fix parameter is needed\n",
    "    \n",
    "    Parameters\n",
    "    ----------\n",
    "    x1_list: list of x1 parameter space.\n",
    "    x2_list: list of x2 parameter space.\n",
    "    x3_list: list of x3 parameter space.\n",
    "    fix_x: string, target parameter that you want to fix\n",
    "    M: MonteCarlo index (default:100, too low:low accuracy, too high:computational intensity) \n",
    "    \n",
    "\n",
    "    Returns\n",
    "    -------\n",
    "    DataFrame\n",
    "        A comma-separated values (csv) file is returned as two-dimensional\n",
    "        data structure with labeled axes.\n",
    "\n",
    "    Examples\n",
    "    --------\n",
    "    >>> multi_simul_df = multiple_simple_simulation(x1_list, x2_list, x3_list, M = 150, u = 0.1, k = 3)\n",
    "    '''    \n",
    "    \n",
    "    global simple_Simulation\n",
    "    \n",
    "    # list for saving all results dfs\n",
    "    prep1_dfs = []\n",
    "    \n",
    "    if fix_x == 'x1': target_list = x1_list.copy() # 만약 x1이 fix라면 target list는 x1\n",
    "    elif fix_x == 'x2': target_list = x2_list.copy()\n",
    "    elif fix_x == 'x3': target_list = x3_list.copy()\n",
    "    \n",
    "    for fix_param in (target_list):\n",
    "        for i in range(M): #M times\n",
    "            # set parameter space\n",
    "            if fix_x == 'x1': \n",
    "                x_1 = fix_param # if, x1 is fixed, choose one of param in x1\n",
    "                x_2 = random2.choice(x2_list)\n",
    "                x_3 = random2.choice(x3_list)\n",
    "\n",
    "            elif fix_x == 'x2':\n",
    "                x_1 = random2.choice(x1_list)\n",
    "                x_2 = fix_param\n",
    "                x_3 = random2.choice(x3_list)\n",
    "\n",
    "            elif fix_x == 'x3':\n",
    "                x_1 = random2.choice(x1_list)\n",
    "                x_2 = random2.choice(x2_list)\n",
    "                x_3 = fix_param\n",
    "\n",
    "            # run model and save\n",
    "            tem_prep1_data = simple_Simulation(x1 = x_1, x2 = x_2, x3 = x_3, n = 1)\n",
    "\n",
    "            # append temporal result to list\n",
    "            prep1_dfs.append(tem_prep1_data)\n",
    "\n",
    "    result_df = pd.concat(prep1_dfs, axis=0, ignore_index=True)\n",
    "\n",
    "    return result_df"
   ]
  },
  {
   "cell_type": "code",
   "execution_count": 131,
   "metadata": {},
   "outputs": [],
   "source": [
    "# y_seq_df와 x_seq_df, multi_simul_df_rmse_sel를 이용해서 만들어야 함.\n",
    "# 시뮬결과에서 x로 시작하는 컬럼. 뽑아서 각 x마다 unique한 값들을 뽑아내서 sort함.\n",
    "# 이후 y_seq_df와 x_seq_df순서대로 calibration을 시작. y수만큼 진행됌.\n",
    "\n",
    "\n",
    "\n",
    "\n",
    "\n",
    "def seqCalibration(fix_x, fix_y, rmse_sel, simul_result_df, O_list, t, df_return = False): #x_index는 x 몇인지, y_index는 y 몇인지\n",
    "    \n",
    "    '''\n",
    "    to run sequential calibration by fixing one parameter and one dependent variable. by the creterion t (tolerance index), the permitable calibrated parameter space will vary.\n",
    "    If τ is too high, the parameter space will decrease significantly at once, resulting in stricter calibration.\n",
    "    \n",
    "    Parameters\n",
    "    ----------\n",
    "    fix_x: fixed x parameter in this round\n",
    "    fix_y: fixed y parameter in this round\n",
    "    rmse_sel: rmse_sel value of y from rmse_sel df\n",
    "    simul_result_df: simulation result df that includes each x, and corresponding y\n",
    "    O_list: A list that includes all observed data of Y\n",
    "    t: tolerance index\n",
    "    df_return: return the result df (True) or not (False)\n",
    "    \n",
    "    \n",
    "    Returns\n",
    "    -------\n",
    "    DataFrame\n",
    "        A comma-separated values (csv) file is returned as two-dimensional\n",
    "        data structure with labeled axes.\n",
    "\n",
    "    list \n",
    "        A Python list is a data structure that holds multiple elements in a sequential order.\n",
    "    \n",
    "    Examples\n",
    "    --------\n",
    "    >>> x3_list, result_df = seqCalibration(fix_x = 'x3', fix_y = 'y1', rmse_sel = 401.295316, simul_result_df = fix_x3_simul_result_df,  O_list = O_list, t = 0.1, df_return = True)\n",
    "    >>> x3_list, = seqCalibration(fix_x = 'x3', fix_y = 'y1', rmse_sel = 401.295316, simul_result_df = fix_x3_simul_result_df,  O_list = O_list, t = 0.1)\n",
    "    \n",
    "    '''\n",
    "    \n",
    "    # fix_x3_simul_result_df 여기서 rmse를 구해서 옆에 붙이고,조합 당 몇개가 몇개중에 맞는지.\n",
    "    # --- func for RMSE calculation ---\n",
    "    def rmse(actual, predicted):\n",
    "        return np.sqrt(np.mean((np.array(actual) - np.array(predicted))**2))\n",
    "\n",
    "\n",
    "    # --- add combinations of y ---\n",
    "    df = simul_result_df.copy()\n",
    "    comb_columns = [col for col in df.columns if col.startswith('x')] # if the comlumn name starts with x\n",
    "    df['comb'] = df[comb_columns].apply(lambda row: list(row), axis=1)\n",
    "\n",
    "    \n",
    "    # --- compute rmse ---\n",
    "    df[fix_y + '_rmse'] = df[fix_y].apply(lambda x: rmse(x, O_list[int(fix_y[1:]) - 1])) # pull index of y and pull Observed data\n",
    "    df['n_R'] = 1   # ALl counts of RMSE result\n",
    "    df['n_C'] = 0   # ALl counts of RMSE result but lower than RMSE_sel\n",
    "    \n",
    "    # --- return result ---\n",
    "    df.loc[df[fix_y + '_rmse'] < rmse_sel, 'n_C'] = 1 # if y1_rmse is lower than rmse_sel -> put 1 in n_C\n",
    "    \n",
    "    # Output the 'fix_x' values as a list, where the 'n_C' /'n_R' based on unique values of 'fix_x' is equal to or greater than 10%.\n",
    "    result_summary = {}\n",
    "    unique_x_values = result_df[fix_x].unique()\n",
    "    new_x_list = []\n",
    "    \n",
    "    for x_value in unique_x_values:   # when n_C / n_R is greater than t : save it to the list\n",
    "        n_R_sum = result_df.loc[result_df[fix_x] == x_value, 'n_R'].sum()\n",
    "        n_C_sum = result_df.loc[result_df[fix_x] == x_value, 'n_C'].sum()\n",
    "        if n_C_sum / n_R_sum >= t:\n",
    "            result_summary[x_value] = round(n_C_sum / n_R_sum, 3)\n",
    "            new_x_list.append(x_value)\n",
    "    \n",
    "    print('reliability of \\'' + fix_x + '\\' for \\'' + fix_y + '\\' (1 - uncertainty degree): ', result_summary)\n",
    "    \n",
    "    new_x_list = sorted(new_x_list)\n",
    "    # --- return ---\n",
    "    if df_return == True:\n",
    "        return new_x_list, df\n",
    "    \n",
    "    else:\n",
    "        return new_x_list\n",
    "\n"
   ]
  },
  {
   "cell_type": "markdown",
   "metadata": {},
   "source": [
    "# 사용자:"
   ]
  },
  {
   "cell_type": "code",
   "execution_count": 21,
   "metadata": {},
   "outputs": [],
   "source": [
    "# 시뮬레이션을 무작위로 돌린다.\n",
    "\n",
    "x1_list = [1,2,3,4,5]\n",
    "x2_list = [1,2,3,4,5]\n",
    "x3_list = [1,2,3,4,5]\n",
    "\n",
    "# set hyper parameters\n",
    "M = 150\n",
    "k = 3\n",
    "\n",
    "# ---  run simulations for M(2k+2) times ---\n",
    "multi_simul_df = multiple_simple_simulation(x1_list, x2_list, x3_list, M, k) "
   ]
  },
  {
   "cell_type": "code",
   "execution_count": 22,
   "metadata": {
    "tags": []
   },
   "outputs": [
    {
     "data": {
      "text/html": [
       "<div>\n",
       "<style scoped>\n",
       "    .dataframe tbody tr th:only-of-type {\n",
       "        vertical-align: middle;\n",
       "    }\n",
       "\n",
       "    .dataframe tbody tr th {\n",
       "        vertical-align: top;\n",
       "    }\n",
       "\n",
       "    .dataframe thead th {\n",
       "        text-align: right;\n",
       "    }\n",
       "</style>\n",
       "<table border=\"1\" class=\"dataframe\">\n",
       "  <thead>\n",
       "    <tr style=\"text-align: right;\">\n",
       "      <th></th>\n",
       "      <th>x1</th>\n",
       "      <th>x2</th>\n",
       "      <th>x3</th>\n",
       "      <th>y1</th>\n",
       "      <th>y2</th>\n",
       "      <th>y3</th>\n",
       "    </tr>\n",
       "  </thead>\n",
       "  <tbody>\n",
       "    <tr>\n",
       "      <th>0</th>\n",
       "      <td>1</td>\n",
       "      <td>5</td>\n",
       "      <td>3</td>\n",
       "      <td>[81.6, 91.2, 155.8, 200.9, 285.4, 286.7, 292.1...</td>\n",
       "      <td>[48.0, 53.0, 57.0, 139.0, 157.0, 157.0, 164.0,...</td>\n",
       "      <td>[8.0, 9.0, 9.0, 10.0, 11.0, 13.0, 13.0, 13.0, ...</td>\n",
       "    </tr>\n",
       "    <tr>\n",
       "      <th>1</th>\n",
       "      <td>2</td>\n",
       "      <td>2</td>\n",
       "      <td>5</td>\n",
       "      <td>[5.5, 9.9, 23.6, 23.7, 31.9, 32.8, 34.0, 43.3,...</td>\n",
       "      <td>[8.0, 10.0, 23.0, 24.0, 28.0, 31.0, 36.0, 41.0...</td>\n",
       "      <td>[3.0, 3.0, 3.0, 4.0, 6.0, 6.0, 6.0, 7.0, 8.0, ...</td>\n",
       "    </tr>\n",
       "    <tr>\n",
       "      <th>2</th>\n",
       "      <td>5</td>\n",
       "      <td>3</td>\n",
       "      <td>5</td>\n",
       "      <td>[10.1, 15.6, 19.4, 28.7, 38.9, 41.1, 43.0, 43....</td>\n",
       "      <td>[12.0, 19.0, 19.0, 26.0, 34.0, 41.0, 44.0, 47....</td>\n",
       "      <td>[3.0, 5.0, 5.0, 6.0, 8.0, 8.0, 8.0, 9.0, 9.0, ...</td>\n",
       "    </tr>\n",
       "    <tr>\n",
       "      <th>3</th>\n",
       "      <td>4</td>\n",
       "      <td>5</td>\n",
       "      <td>1</td>\n",
       "      <td>[89.0, 270.5960472, 347.1219705, 354.7214986, ...</td>\n",
       "      <td>[15.0, 200.9423677, 204.2314026, 230.281696, 2...</td>\n",
       "      <td>[15.547, 19.36679996, 19.79602558, 20.7, 20.93...</td>\n",
       "    </tr>\n",
       "    <tr>\n",
       "      <th>4</th>\n",
       "      <td>5</td>\n",
       "      <td>2</td>\n",
       "      <td>3</td>\n",
       "      <td>[24.8, 53.9, 70.2, 115.3, 119.0, 156.7, 170.8,...</td>\n",
       "      <td>[26.0, 29.0, 66.0, 78.0, 87.0, 92.0, 104.0, 12...</td>\n",
       "      <td>[5.0, 5.0, 7.0, 11.0, 13.0, 14.0, 14.0, 15.0, ...</td>\n",
       "    </tr>\n",
       "  </tbody>\n",
       "</table>\n",
       "</div>"
      ],
      "text/plain": [
       "   x1  x2  x3                                                 y1  \\\n",
       "0   1   5   3  [81.6, 91.2, 155.8, 200.9, 285.4, 286.7, 292.1...   \n",
       "1   2   2   5  [5.5, 9.9, 23.6, 23.7, 31.9, 32.8, 34.0, 43.3,...   \n",
       "2   5   3   5  [10.1, 15.6, 19.4, 28.7, 38.9, 41.1, 43.0, 43....   \n",
       "3   4   5   1  [89.0, 270.5960472, 347.1219705, 354.7214986, ...   \n",
       "4   5   2   3  [24.8, 53.9, 70.2, 115.3, 119.0, 156.7, 170.8,...   \n",
       "\n",
       "                                                  y2  \\\n",
       "0  [48.0, 53.0, 57.0, 139.0, 157.0, 157.0, 164.0,...   \n",
       "1  [8.0, 10.0, 23.0, 24.0, 28.0, 31.0, 36.0, 41.0...   \n",
       "2  [12.0, 19.0, 19.0, 26.0, 34.0, 41.0, 44.0, 47....   \n",
       "3  [15.0, 200.9423677, 204.2314026, 230.281696, 2...   \n",
       "4  [26.0, 29.0, 66.0, 78.0, 87.0, 92.0, 104.0, 12...   \n",
       "\n",
       "                                                  y3  \n",
       "0  [8.0, 9.0, 9.0, 10.0, 11.0, 13.0, 13.0, 13.0, ...  \n",
       "1  [3.0, 3.0, 3.0, 4.0, 6.0, 6.0, 6.0, 7.0, 8.0, ...  \n",
       "2  [3.0, 5.0, 5.0, 6.0, 8.0, 8.0, 8.0, 9.0, 9.0, ...  \n",
       "3  [15.547, 19.36679996, 19.79602558, 20.7, 20.93...  \n",
       "4  [5.0, 5.0, 7.0, 11.0, 13.0, 14.0, 14.0, 15.0, ...  "
      ]
     },
     "execution_count": 22,
     "metadata": {},
     "output_type": "execute_result"
    }
   ],
   "source": [
    "multi_simul_df.head()"
   ]
  },
  {
   "cell_type": "code",
   "execution_count": 23,
   "metadata": {
    "tags": []
   },
   "outputs": [
    {
     "data": {
      "text/html": [
       "<div>\n",
       "<style scoped>\n",
       "    .dataframe tbody tr th:only-of-type {\n",
       "        vertical-align: middle;\n",
       "    }\n",
       "\n",
       "    .dataframe tbody tr th {\n",
       "        vertical-align: top;\n",
       "    }\n",
       "\n",
       "    .dataframe thead th {\n",
       "        text-align: right;\n",
       "    }\n",
       "</style>\n",
       "<table border=\"1\" class=\"dataframe\">\n",
       "  <thead>\n",
       "    <tr style=\"text-align: right;\">\n",
       "      <th></th>\n",
       "      <th>rmse_O1</th>\n",
       "      <th>rmse_O2</th>\n",
       "      <th>rmse_O3</th>\n",
       "    </tr>\n",
       "  </thead>\n",
       "  <tbody>\n",
       "    <tr>\n",
       "      <th>0</th>\n",
       "      <td>401.295316</td>\n",
       "      <td>50.487752</td>\n",
       "      <td>3.176924</td>\n",
       "    </tr>\n",
       "  </tbody>\n",
       "</table>\n",
       "</div>"
      ],
      "text/plain": [
       "      rmse_O1    rmse_O2   rmse_O3\n",
       "0  401.295316  50.487752  3.176924"
      ]
     },
     "execution_count": 23,
     "metadata": {},
     "output_type": "execute_result"
    }
   ],
   "source": [
    "# --- preprocessing 1: determining a criterion for calibration\n",
    "\n",
    "O_list = [O1, O2, O3] # observed data to list -> sqp.O1, sqp.O2, sqp.O3 를 넣어야 함.\n",
    "u = 0.1\n",
    "rmse_sel_df, multi_simul_df_rmse_sel = prep1_criterion(O_list, multi_simul_df, u, k)\n",
    "\n",
    "# now, we have the rmse_sel for all O.\n",
    "rmse_sel_df"
   ]
  },
  {
   "cell_type": "code",
   "execution_count": 11,
   "metadata": {
    "tags": []
   },
   "outputs": [
    {
     "name": "stdout",
     "output_type": "stream",
     "text": [
      "The order of Ys: ['y1', 'y3', 'y2']\n"
     ]
    },
    {
     "data": {
      "text/html": [
       "<div>\n",
       "<style scoped>\n",
       "    .dataframe tbody tr th:only-of-type {\n",
       "        vertical-align: middle;\n",
       "    }\n",
       "\n",
       "    .dataframe tbody tr th {\n",
       "        vertical-align: top;\n",
       "    }\n",
       "\n",
       "    .dataframe thead th {\n",
       "        text-align: right;\n",
       "    }\n",
       "</style>\n",
       "<table border=\"1\" class=\"dataframe\">\n",
       "  <thead>\n",
       "    <tr style=\"text-align: right;\">\n",
       "      <th></th>\n",
       "      <th>y</th>\n",
       "      <th>count</th>\n",
       "    </tr>\n",
       "  </thead>\n",
       "  <tbody>\n",
       "    <tr>\n",
       "      <th>0</th>\n",
       "      <td>y1</td>\n",
       "      <td>672</td>\n",
       "    </tr>\n",
       "    <tr>\n",
       "      <th>1</th>\n",
       "      <td>y2</td>\n",
       "      <td>215</td>\n",
       "    </tr>\n",
       "    <tr>\n",
       "      <th>2</th>\n",
       "      <td>y3</td>\n",
       "      <td>367</td>\n",
       "    </tr>\n",
       "  </tbody>\n",
       "</table>\n",
       "</div>"
      ],
      "text/plain": [
       "    y  count\n",
       "0  y1    672\n",
       "1  y2    215\n",
       "2  y3    367"
      ]
     },
     "execution_count": 11,
     "metadata": {},
     "output_type": "execute_result"
    }
   ],
   "source": [
    "# --- preprocessing 2: sorting Y for calibration\n",
    "\n",
    "y_seq_df = sorting_Y(multi_simul_df_rmse_sel)\n",
    "y_seq_df"
   ]
  },
  {
   "cell_type": "code",
   "execution_count": 12,
   "metadata": {
    "tags": []
   },
   "outputs": [
    {
     "name": "stdout",
     "output_type": "stream",
     "text": [
      "The order of Xs: ['x3', 'x2', 'x1']\n"
     ]
    },
    {
     "data": {
      "text/html": [
       "<div>\n",
       "<style scoped>\n",
       "    .dataframe tbody tr th:only-of-type {\n",
       "        vertical-align: middle;\n",
       "    }\n",
       "\n",
       "    .dataframe tbody tr th {\n",
       "        vertical-align: top;\n",
       "    }\n",
       "\n",
       "    .dataframe thead th {\n",
       "        text-align: right;\n",
       "    }\n",
       "</style>\n",
       "<table border=\"1\" class=\"dataframe\">\n",
       "  <thead>\n",
       "    <tr style=\"text-align: right;\">\n",
       "      <th></th>\n",
       "      <th>Xs</th>\n",
       "      <th>first_order_Si</th>\n",
       "    </tr>\n",
       "  </thead>\n",
       "  <tbody>\n",
       "    <tr>\n",
       "      <th>0</th>\n",
       "      <td>x1</td>\n",
       "      <td>0.002692</td>\n",
       "    </tr>\n",
       "    <tr>\n",
       "      <th>1</th>\n",
       "      <td>x2</td>\n",
       "      <td>0.053955</td>\n",
       "    </tr>\n",
       "    <tr>\n",
       "      <th>2</th>\n",
       "      <td>x3</td>\n",
       "      <td>0.649564</td>\n",
       "    </tr>\n",
       "  </tbody>\n",
       "</table>\n",
       "</div>"
      ],
      "text/plain": [
       "   Xs  first_order_Si\n",
       "0  x1        0.002692\n",
       "1  x2        0.053955\n",
       "2  x3        0.649564"
      ]
     },
     "execution_count": 12,
     "metadata": {},
     "output_type": "execute_result"
    }
   ],
   "source": [
    "# --- preprocessing 3: sorting X based on sensitivity analysis for calibration\n",
    "problem = {\n",
    "    'num_vars': 3,\n",
    "    'names': ['p1', 'p2', 'p3'],\n",
    "    'bounds': [[1, 5],\n",
    "               [1, 5],\n",
    "               [1, 5]]\n",
    "}\n",
    "\n",
    "x_seq_df = sorting_X(problem, multi_simul_df_rmse_sel, GSA = 'RBD-FAST')\n",
    "x_seq_df"
   ]
  },
  {
   "cell_type": "markdown",
   "metadata": {},
   "source": [
    "## sequential calibration"
   ]
  },
  {
   "cell_type": "markdown",
   "metadata": {},
   "source": [
    "- round 1 (y: y1)"
   ]
  },
  {
   "cell_type": "code",
   "execution_count": 151,
   "metadata": {},
   "outputs": [
    {
     "name": "stdout",
     "output_type": "stream",
     "text": [
      "reliability of 'x3' for 'y1' (1 - uncertainty degree):  {3: 0.59, 4: 0.91, 5: 1.0}\n",
      "updated x3 parameter space: [3, 4, 5]\n"
     ]
    }
   ],
   "source": [
    "# -- now we need to run sequential calibration with the previous sequence of y and x (y1 -> y3 -> y2 / x3 -> x2 -> x1) --\n",
    "# First round of y1: fix x3\n",
    "x1_list = [1,2,3,4,5]\n",
    "x2_list = [1,2,3,4,5]\n",
    "x3_list = [1,2,3,4,5]\n",
    "\n",
    "fix_x3_y1_simul_result_df = fix_param_simple_simulation(x1_list, x2_list, x3_list, fix_x = 'x3', M = 100) # fix x3: fix each x3 value one by one and run 100 times of simulation\n",
    "\n",
    "x3_list, result_df = seqCalibration(fix_x = 'x3', fix_y = 'y1', rmse_sel = 401.295316, simul_result_df = fix_x3_y1_simul_result_df,  O_list = O_list, t = 0.2, df_return = True)\n",
    "\n",
    "print('updated x3 parameter space:', x3_list)"
   ]
  },
  {
   "cell_type": "code",
   "execution_count": 153,
   "metadata": {
    "tags": []
   },
   "outputs": [
    {
     "name": "stdout",
     "output_type": "stream",
     "text": [
      "reliability of 'x2' for 'y1' (1 - uncertainty degree):  {1: 0.93, 2: 0.88, 3: 0.79, 4: 0.79, 5: 0.58}\n",
      "updated x2 parameter space: [1, 2, 3, 4, 5]\n"
     ]
    }
   ],
   "source": [
    "# Second round of y1: fix x2\n",
    "\n",
    "fix_x2_y1_simul_result_df = fix_param_simple_simulation(x1_list, x2_list, x3_list, fix_x = 'x2', M = 100) # fix x3: fix each x3 value one by one and run 100 times of simulation\n",
    "\n",
    "x2_list, result_df = seqCalibration(fix_x = 'x2', fix_y = 'y1', rmse_sel = 401.295316, simul_result_df = fix_x2_y1_simul_result_df,  O_list = O_list, t = 0.2, df_return = True)\n",
    "\n",
    "print('updated x2 parameter space:', x2_list)"
   ]
  },
  {
   "cell_type": "code",
   "execution_count": 154,
   "metadata": {
    "tags": []
   },
   "outputs": [
    {
     "name": "stdout",
     "output_type": "stream",
     "text": [
      "reliability of 'x1' for 'y1' (1 - uncertainty degree):  {1: 0.726, 2: 0.869, 4: 0.909, 3: 0.85, 5: 0.729}\n",
      "updated x1 parameter space: [1, 2, 3, 4, 5]\n"
     ]
    }
   ],
   "source": [
    "# Third round of y1: fix x1\n",
    "\n",
    "fix_x1_y1_simul_result_df = fix_param_simple_simulation(x1_list, x2_list, x3_list, fix_x = 'x1', M = 100) # fix x3: fix each x3 value one by one and run 100 times of simulation\n",
    "\n",
    "x1_list, result_df = seqCalibration(fix_x = 'x1', fix_y = 'y1', rmse_sel = 401.295316, simul_result_df = fix_x1_y1_simul_result_df,  O_list = O_list, t = 0.2, df_return = True)\n",
    "\n",
    "print('updated x1 parameter space:', x1_list)"
   ]
  },
  {
   "cell_type": "markdown",
   "metadata": {},
   "source": [
    "- round 2 (y: y3)"
   ]
  },
  {
   "cell_type": "code",
   "execution_count": 157,
   "metadata": {
    "tags": []
   },
   "outputs": [
    {
     "name": "stdout",
     "output_type": "stream",
     "text": [
      "reliability of 'x3' for 'y3' (1 - uncertainty degree):  {4: 0.41, 5: 0.62}\n",
      "updated x3 parameter space: [4, 5]\n"
     ]
    }
   ],
   "source": [
    "# First round of y3: fix x3\n",
    "\n",
    "fix_x3_y3_simul_result_df = fix_param_simple_simulation(x1_list, x2_list, x3_list, fix_x = 'x3', M = 100) # fix x3: fix each x3 value one by one and run 100 times of simulation\n",
    "\n",
    "x3_list, result_df = seqCalibration(fix_x = 'x3', fix_y = 'y3', rmse_sel = 3.176924, simul_result_df = fix_x3_y3_simul_result_df,  O_list = O_list, t = 0.2, df_return = True)\n",
    "\n",
    "print('updated x3 parameter space:', x3_list)"
   ]
  },
  {
   "cell_type": "code",
   "execution_count": 160,
   "metadata": {
    "tags": []
   },
   "outputs": [
    {
     "name": "stdout",
     "output_type": "stream",
     "text": [
      "reliability of 'x2' for 'y3' (1 - uncertainty degree):  {1: 0.689, 5: 0.531, 4: 0.515, 3: 0.657, 2: 0.478}\n",
      "updated x2 parameter space: [1, 2, 3, 4, 5]\n"
     ]
    }
   ],
   "source": [
    "# second round of y3: fix x2\n",
    "\n",
    "fix_x2_y3_simul_result_df = fix_param_simple_simulation(x1_list, x2_list, x3_list, fix_x = 'x2', M = 100) # fix x3: fix each x3 value one by one and run 100 times of simulation\n",
    "\n",
    "x2_list, result_df = seqCalibration(fix_x = 'x2', fix_y = 'y3', rmse_sel = 3.176924, simul_result_df = fix_x2_y3_simul_result_df,  O_list = O_list, t = 0.2, df_return = True)\n",
    "\n",
    "print('updated x2 parameter space:', x2_list)"
   ]
  },
  {
   "cell_type": "code",
   "execution_count": 161,
   "metadata": {
    "tags": []
   },
   "outputs": [
    {
     "name": "stdout",
     "output_type": "stream",
     "text": [
      "reliability of 'x2' for 'y3' (1 - uncertainty degree):  {1: 0.67, 2: 0.43, 3: 0.68, 4: 0.65, 5: 0.56}\n",
      "updated x1 parameter space: [1, 2, 3, 4, 5]\n"
     ]
    }
   ],
   "source": [
    "# second round of y3: fix x1\n",
    "\n",
    "fix_x1_y3_simul_result_df = fix_param_simple_simulation(x1_list, x2_list, x3_list, fix_x = 'x1', M = 100) # fix x3: fix each x3 value one by one and run 100 times of simulation\n",
    "\n",
    "x1_list, result_df = seqCalibration(fix_x = 'x2', fix_y = 'y3', rmse_sel = 3.176924, simul_result_df = fix_x1_y3_simul_result_df,  O_list = O_list, t = 0.2, df_return = True)\n",
    "\n",
    "print('updated x1 parameter space:', x1_list)"
   ]
  },
  {
   "cell_type": "markdown",
   "metadata": {},
   "source": [
    "- round 3 (y: y2)"
   ]
  },
  {
   "cell_type": "code",
   "execution_count": 162,
   "metadata": {
    "tags": []
   },
   "outputs": [
    {
     "name": "stdout",
     "output_type": "stream",
     "text": [
      "reliability of 'x3' for 'y2' (1 - uncertainty degree):  {5: 0.678, 4: 0.429}\n",
      "updated x3 parameter space: [4, 5]\n"
     ]
    }
   ],
   "source": [
    "# First round of y2: fix x3\n",
    "\n",
    "fix_x3_y2_simul_result_df = fix_param_simple_simulation(x1_list, x2_list, x3_list, fix_x = 'x3', M = 100) # fix x3: fix each x3 value one by one and run 100 times of simulation\n",
    "\n",
    "x3_list, result_df = seqCalibration(fix_x = 'x3', fix_y = 'y2', rmse_sel = 50.487752, simul_result_df = fix_x3_y2_simul_result_df,  O_list = O_list, t = 0.2, df_return = True)\n",
    "\n",
    "print('updated x3 parameter space:', x3_list)"
   ]
  },
  {
   "cell_type": "code",
   "execution_count": 163,
   "metadata": {
    "tags": []
   },
   "outputs": [
    {
     "name": "stdout",
     "output_type": "stream",
     "text": [
      "reliability of 'x2' for 'y2' (1 - uncertainty degree):  {3: 0.25, 1: 0.421, 4: 0.396, 2: 0.333}\n",
      "updated x2 parameter space: [1, 2, 3, 4]\n"
     ]
    }
   ],
   "source": [
    "# second round of y2: fix x2\n",
    "\n",
    "fix_x2_y2_simul_result_df = fix_param_simple_simulation(x1_list, x2_list, x3_list, fix_x = 'x2', M = 100) # fix x3: fix each x3 value one by one and run 100 times of simulation\n",
    "\n",
    "x2_list, result_df = seqCalibration(fix_x = 'x2', fix_y = 'y2', rmse_sel = 50.487752, simul_result_df = fix_x2_y2_simul_result_df,  O_list = O_list, t = 0.2, df_return = True)\n",
    "\n",
    "print('updated x2 parameter space:', x2_list)"
   ]
  },
  {
   "cell_type": "code",
   "execution_count": 164,
   "metadata": {
    "tags": []
   },
   "outputs": [
    {
     "name": "stdout",
     "output_type": "stream",
     "text": [
      "reliability of 'x1' for 'y2' (1 - uncertainty degree):  {3: 0.443, 1: 0.34, 2: 0.634, 4: 0.541}\n",
      "updated x1 parameter space: [1, 2, 3, 4]\n"
     ]
    }
   ],
   "source": [
    "# second round of y2: fix x1\n",
    "\n",
    "fix_x1_y2_simul_result_df = fix_param_simple_simulation(x1_list, x2_list, x3_list, fix_x = 'x1', M = 100) # fix x3: fix each x3 value one by one and run 100 times of simulation\n",
    "\n",
    "x1_list, result_df = seqCalibration(fix_x = 'x1', fix_y = 'y2', rmse_sel = 50.487752, simul_result_df = fix_x1_y2_simul_result_df,  O_list = O_list, t = 0.2, df_return = True)\n",
    "\n",
    "print('updated x1 parameter space:', x1_list)"
   ]
  },
  {
   "cell_type": "code",
   "execution_count": null,
   "metadata": {},
   "outputs": [],
   "source": []
  }
 ],
 "metadata": {
  "kernelspec": {
   "display_name": "Python 3",
   "language": "python",
   "name": "python3"
  },
  "language_info": {
   "codemirror_mode": {
    "name": "ipython",
    "version": 3
   },
   "file_extension": ".py",
   "mimetype": "text/x-python",
   "name": "python",
   "nbconvert_exporter": "python",
   "pygments_lexer": "ipython3",
   "version": "3.9.1"
  }
 },
 "nbformat": 4,
 "nbformat_minor": 4
}
