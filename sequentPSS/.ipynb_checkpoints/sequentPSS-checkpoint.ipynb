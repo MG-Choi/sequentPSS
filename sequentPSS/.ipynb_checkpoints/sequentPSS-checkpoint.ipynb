{
 "cells": [
  {
   "cell_type": "code",
   "execution_count": 7,
   "metadata": {
    "tags": []
   },
   "outputs": [],
   "source": [
    "import numpy as np\n",
    "import pandas as pd\n",
    "import random2\n",
    "import os #os의 경우 기본적으로 주어지기 때문에 setup.py에 하지 않는다."
   ]
  },
  {
   "cell_type": "markdown",
   "metadata": {
    "tags": []
   },
   "source": [
    "## data"
   ]
  },
  {
   "cell_type": "code",
   "execution_count": 8,
   "metadata": {
    "collapsed": true,
    "jupyter": {
     "outputs_hidden": true
    },
    "tags": []
   },
   "outputs": [
    {
     "ename": "NameError",
     "evalue": "name '__file__' is not defined",
     "output_type": "error",
     "traceback": [
      "\u001b[1;31m---------------------------------------------------------------------------\u001b[0m",
      "\u001b[1;31mNameError\u001b[0m                                 Traceback (most recent call last)",
      "Cell \u001b[1;32mIn[8], line 2\u001b[0m\n\u001b[0;32m      1\u001b[0m \u001b[38;5;66;03m# change path to relative path\u001b[39;00m\n\u001b[1;32m----> 2\u001b[0m current_directory \u001b[38;5;241m=\u001b[39m os\u001b[38;5;241m.\u001b[39mpath\u001b[38;5;241m.\u001b[39mdirname(os\u001b[38;5;241m.\u001b[39mpath\u001b[38;5;241m.\u001b[39mabspath(\u001b[38;5;18m__file__\u001b[39m))\n\u001b[0;32m      3\u001b[0m os\u001b[38;5;241m.\u001b[39mchdir(current_directory)\n\u001b[0;32m      5\u001b[0m path \u001b[38;5;241m=\u001b[39m \u001b[38;5;124m\"\u001b[39m\u001b[38;5;124m./sampleData/concatenated_df.csv\u001b[39m\u001b[38;5;124m\"\u001b[39m\n",
      "\u001b[1;31mNameError\u001b[0m: name '__file__' is not defined"
     ]
    }
   ],
   "source": [
    "# change path to relative path - only for publishing\n",
    "current_directory = os.path.dirname(os.path.abspath(__file__))\n",
    "os.chdir(current_directory)\n",
    "\n",
    "path = \"./sampleData/concatenated_df.csv\"\n",
    "simul_data = pd.read_csv(path)"
   ]
  },
  {
   "cell_type": "markdown",
   "metadata": {},
   "source": [
    "## simulation code"
   ]
  },
  {
   "cell_type": "code",
   "execution_count": 3,
   "metadata": {
    "tags": []
   },
   "outputs": [],
   "source": [
    "def simple_Simulation(p1: 'int', p2: 'int', p3: 'int', n = 10):\n",
    "    '''\n",
    "    to make simple simulation\n",
    "    \n",
    "    Parameters\n",
    "    ----------\n",
    "    p1 : parameter 1. range: 1 to 5\n",
    "    p2 : parameter 2. range: 1 to 5\n",
    "    p3 : parameter 3. range: 1 to 5\n",
    "    n : the number of simulation runs\n",
    "\n",
    "    Returns\n",
    "    -------\n",
    "    DataFrame\n",
    "        A comma-separated values (csv) file is returned as two-dimensional\n",
    "        data structure with labeled axes.\n",
    "\n",
    "    Examples\n",
    "    --------\n",
    "    >>> simple_Simulation(p1 = 1, p2 = 3, p3 = 2, n = 11)\n",
    "    '''\n",
    "    \n",
    "    global simul_data # globally declare\n",
    "   \n",
    "    # select data\n",
    "    condition = (simul_data['p1'] == p1) & (simul_data['p2'] == p2) & (simul_data['p3'] == p3)\n",
    "    filtered_df = simul_data[condition]\n",
    "    \n",
    "    dfs = []\n",
    "    for i in range(n): # now, extracts by #n\n",
    "        \n",
    "        uniq_num = random2.choice(pd.unique(filtered_df['uniq_num']))\n",
    "        chosen_df = filtered_df[filtered_df['uniq_num'] == uniq_num] #filter only uniq_num\n",
    "    \n",
    "        # now make new simulation data\n",
    "        new_data = {\n",
    "            'p1': [chosen_df['p1'].iloc[0]],\n",
    "            'p2': [chosen_df['p2'].iloc[0]],\n",
    "            'p3': [chosen_df['p3'].iloc[0]],\n",
    "            'y1': [sorted(chosen_df['y1'].tolist())],\n",
    "            'y2': [sorted(chosen_df['y2'].tolist())],\n",
    "            'y3': [sorted(chosen_df['y3'].tolist())]\n",
    "        }\n",
    "        \n",
    "        chosen_df = pd.DataFrame(new_data)\n",
    "\n",
    "        dfs.append(chosen_df) # appended chosen_df\n",
    "        \n",
    "    result_df = pd.concat(dfs, axis=0, ignore_index=True) \n",
    "    \n",
    "    return result_df"
   ]
  },
  {
   "cell_type": "markdown",
   "metadata": {},
   "source": [
    "## 1) preprocessing (1)"
   ]
  },
  {
   "cell_type": "code",
   "execution_count": 4,
   "metadata": {},
   "outputs": [],
   "source": [
    "def criterion(asd):\n",
    "    print(asd + \"asdasdasdccqc\")"
   ]
  },
  {
   "cell_type": "code",
   "execution_count": null,
   "metadata": {},
   "outputs": [],
   "source": []
  },
  {
   "cell_type": "code",
   "execution_count": null,
   "metadata": {},
   "outputs": [],
   "source": []
  },
  {
   "cell_type": "code",
   "execution_count": null,
   "metadata": {},
   "outputs": [],
   "source": []
  },
  {
   "cell_type": "code",
   "execution_count": null,
   "metadata": {},
   "outputs": [],
   "source": []
  },
  {
   "cell_type": "code",
   "execution_count": null,
   "metadata": {},
   "outputs": [],
   "source": [
    "# 추후에 RSME구할때는 RMSE를 한 줄씩 따로 구한 후 평균 RMSE로 넣어주자."
   ]
  }
 ],
 "metadata": {
  "kernelspec": {
   "display_name": "Python 3 (ipykernel)",
   "language": "python",
   "name": "python3"
  },
  "language_info": {
   "codemirror_mode": {
    "name": "ipython",
    "version": 3
   },
   "file_extension": ".py",
   "mimetype": "text/x-python",
   "name": "python",
   "nbconvert_exporter": "python",
   "pygments_lexer": "ipython3",
   "version": "3.11.3"
  }
 },
 "nbformat": 4,
 "nbformat_minor": 4
}
