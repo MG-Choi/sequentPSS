{
 "cells": [
  {
   "cell_type": "code",
   "execution_count": 51,
   "metadata": {
    "tags": []
   },
   "outputs": [],
   "source": [
    "import numpy as np\n",
    "import pandas as pd\n",
    "import random2\n",
    "import os #os의 경우 기본적으로 주어지기 때문에 setup.py에 하지 않는다."
   ]
  },
  {
   "cell_type": "code",
   "execution_count": 188,
   "metadata": {
    "tags": []
   },
   "outputs": [],
   "source": [
    "from SALib.analyze import sobol\n",
    "from SALib.analyze import fast\n",
    "from SALib.analyze import rbd_fast\n",
    "from SALib.analyze import delta"
   ]
  },
  {
   "cell_type": "markdown",
   "metadata": {
    "tags": []
   },
   "source": [
    "## data"
   ]
  },
  {
   "cell_type": "code",
   "execution_count": 52,
   "metadata": {
    "tags": []
   },
   "outputs": [],
   "source": [
    "# change path to relative path - only for publishing\n",
    "current_directory = os.path.dirname(os.path.abspath(__file__))\n",
    "os.chdir(current_directory)\n",
    "\n",
    "path = \"./sampleData/concatenated_df.csv\"\n",
    "simul_data = pd.read_csv(path)\n",
    "\n",
    "oPath = \"./sampleData/\"\n",
    "O1 = sorted(np.loadtxt(oPath + \"O1.txt\"))\n",
    "O2 = sorted(np.loadtxt(oPath + \"O2.txt\"))\n",
    "O3 = sorted(np.loadtxt(oPath + \"O3.txt\"))\n",
    "\n"
   ]
  },
  {
   "cell_type": "markdown",
   "metadata": {},
   "source": [
    "## simulation code"
   ]
  },
  {
   "cell_type": "code",
   "execution_count": 53,
   "metadata": {
    "tags": []
   },
   "outputs": [],
   "source": [
    "def simple_Simulation(p1: 'int', p2: 'int', p3: 'int', n = 10):\n",
    "    '''\n",
    "    to make simple simulation\n",
    "    \n",
    "    Parameters\n",
    "    ----------\n",
    "    p1 : parameter 1. range: 1 to 5\n",
    "    p2 : parameter 2. range: 1 to 5\n",
    "    p3 : parameter 3. range: 1 to 5\n",
    "    n : the number of simulation runs\n",
    "\n",
    "    Returns\n",
    "    -------\n",
    "    DataFrame\n",
    "        A comma-separated values (csv) file is returned as two-dimensional\n",
    "        data structure with labeled axes.\n",
    "\n",
    "    Examples\n",
    "    --------\n",
    "    >>> simple_Simulation(p1 = 1, p2 = 3, p3 = 2, n = 11)\n",
    "    '''\n",
    "    \n",
    "    global simul_data # globally declare\n",
    "   \n",
    "    # select data\n",
    "    condition = (simul_data['p1'] == p1) & (simul_data['p2'] == p2) & (simul_data['p3'] == p3)\n",
    "    filtered_df = simul_data[condition]\n",
    "    \n",
    "    dfs = []\n",
    "    for i in range(n): # now, extracts by #n\n",
    "        \n",
    "        uniq_num = random2.choice(pd.unique(filtered_df['uniq_num']))\n",
    "        chosen_df = filtered_df[filtered_df['uniq_num'] == uniq_num] #filter only uniq_num\n",
    "    \n",
    "        # now make new simulation data\n",
    "        new_data = {\n",
    "            'p1': [chosen_df['p1'].iloc[0]],\n",
    "            'p2': [chosen_df['p2'].iloc[0]],\n",
    "            'p3': [chosen_df['p3'].iloc[0]],\n",
    "            'y1': [sorted(chosen_df['y1'].tolist())],\n",
    "            'y2': [sorted(chosen_df['y2'].tolist())],\n",
    "            'y3': [sorted(chosen_df['y3'].tolist())]\n",
    "        }\n",
    "        \n",
    "        chosen_df = pd.DataFrame(new_data)\n",
    "\n",
    "        dfs.append(chosen_df) # appended chosen_df\n",
    "        \n",
    "    result_df = pd.concat(dfs, axis=0, ignore_index=True) \n",
    "    \n",
    "    # sort the list in the columns by ascending order\n",
    "    def sort_list(lst):\n",
    "        return sorted(lst)\n",
    "\n",
    "    # apply 메서드를 사용하여 각 셀의 리스트들을 오름차순으로 정렬\n",
    "    result_df['y1'] = result_df['y1'].apply(sort_list)\n",
    "    result_df['y2'] = result_df['y2'].apply(sort_list)\n",
    "    result_df['y3'] = result_df['y3'].apply(sort_list)\n",
    "\n",
    "    \n",
    "    return result_df"
   ]
  },
  {
   "cell_type": "markdown",
   "metadata": {},
   "source": [
    "## 1) preprocessing (1) - Determine a criterions for calibration"
   ]
  },
  {
   "cell_type": "code",
   "execution_count": 54,
   "metadata": {},
   "outputs": [],
   "source": [
    "# run multiple simulations\n",
    "\n",
    "def multiple_simple_simulation(p1_list, p2_list, p3_list, M = 150, u = 0.1, k = 3):\n",
    "    '''\n",
    "    to make simple simulation results df by multiple parameters\n",
    "    \n",
    "    Parameters\n",
    "    ----------\n",
    "    p1: parameter 1. range: 1 to 5\n",
    "    p2: parameter 2. range: 1 to 5\n",
    "    p3: parameter 3. range: 1 to 5\n",
    "    M: MonteCarlo index (default:100, too low:low accuracy, too high:computational intensity) \n",
    "    u = leniency index (default:0.1, too low:overfit, too high:uncertainty)\n",
    "    k = the number of parameters (3)\n",
    "\n",
    "    Returns\n",
    "    -------\n",
    "    DataFrame\n",
    "        A comma-separated values (csv) file is returned as two-dimensional\n",
    "        data structure with labeled axes.\n",
    "\n",
    "    Examples\n",
    "    --------\n",
    "    >>> multi_simul_df = multiple_simple_simulation(p1_list, p2_list, p3_list, M = 150, u = 0.1, k = 3)\n",
    "    '''    \n",
    "    \n",
    "    global simple_Simulation\n",
    "    \n",
    "    # list for saving all results dfs\n",
    "    prep1_dfs = []\n",
    "    \n",
    "    for i in range(M*(2*k + 2)): #1200 times\n",
    "        # set parameter space\n",
    "        p_1 = random2.choice(p1_list)\n",
    "        p_2 = random2.choice(p2_list)\n",
    "        p_3 = random2.choice(p3_list)\n",
    "\n",
    "        # run model and save\n",
    "        tem_prep1_data = simple_Simulation(p1 = p_1, p2 = p_2, p3 = p_3, n = 1)\n",
    "\n",
    "        # append temporal result to list\n",
    "        prep1_dfs.append(tem_prep1_data)\n",
    "\n",
    "    result_df = pd.concat(prep1_dfs, axis=0, ignore_index=True)\n",
    "\n",
    "    return result_df"
   ]
  },
  {
   "cell_type": "code",
   "execution_count": 55,
   "metadata": {
    "tags": []
   },
   "outputs": [],
   "source": [
    "# Preprocessing (1): determining a criterion for calibration\n",
    "\n",
    "#def prep1_criterion():\n",
    "\n",
    "def prep1_criterion(O_list, multi_simul_df, u, k):\n",
    "    '''\n",
    "    As a preprocessing step, the root mean square error (RMSE) is calculated to determine the criterion for calibration.\n",
    "    \n",
    "    Parameters\n",
    "    ----------\n",
    "    O_list: list that includes observed data\n",
    "    multi_simul_df: result of multiple simulation\n",
    "    u: leniency index (default:0.1, too low:overfit, too high:uncertainty)\n",
    "    k: the number of parameters (3)\n",
    "    \n",
    "    * If there are multiple y columns in multi_simul_df, they should be denoted as y1, y2, y3, y4, and so on.\n",
    "    * Likewise, p column should be in the form of p1, p2, p3, p4, and so on.\n",
    "\n",
    "    Returns\n",
    "    -------\n",
    "    DataFrame\n",
    "        A comma-separated values (csv) file is returned as two-dimensional\n",
    "        data structure with labeled axes.\n",
    "\n",
    "    Examples\n",
    "    --------\n",
    "    >>> rmse_sel_df, multi_simul_df = prep1_criterion(O_list, multi_simul_df, u, k) \n",
    "    '''        \n",
    "    \n",
    "    multi_simul_df_temp = multi_simul_df.copy()\n",
    "    \n",
    "    # --- func for RMSE calculation ---\n",
    "    def rmse(actual, predicted):\n",
    "        return np.sqrt(np.mean((np.array(actual) - np.array(predicted))**2))\n",
    "\n",
    "\n",
    "    # --- add combinations of y ---\n",
    "    comb_columns = [col for col in multi_simul_df_temp.columns if col.startswith('p')] # if the comlumn name starts with p\n",
    "    multi_simul_df_temp['comb'] = multi_simul_df_temp[comb_columns].apply(lambda row: list(row), axis=1)\n",
    "\n",
    "    \n",
    "    # --- add new columns of rmse between y columns and O_list ---\n",
    "    for i, col in enumerate(multi_simul_df_temp.columns):\n",
    "        if col.startswith('y'):\n",
    "            col_name = 'rmse_O' + col[1:]\n",
    "            # print(col[1:])\n",
    "            multi_simul_df_temp[col_name] = multi_simul_df_temp[col].apply(lambda x: rmse(x, O_list[int(col[1:]) - 1]))\n",
    "    \n",
    "    # --- now, we need to calculate criterions for calibration for each y--- \n",
    "    # comb는 괜히 구함. 나중에 써먹기\n",
    "    # 여기서는 rmse_O1, rmse_O2,... 등의 최소, 최대값을 구하고, rmse_sel_yn =  Y_j=Min(〖RMSE〗_tem )+(Max(〖RMSE〗_tem )-Min(〖RMSE〗_tem ))*μ  을 구하면 됌.\n",
    "    \n",
    "    # rmse_O 컬럼들 선택\n",
    "    rmse_O_columns = [col for col in multi_simul_df_temp.columns if col.startswith('rmse_O')]\n",
    "\n",
    "    # 각 rmse_O 컬럼들의 최소값과 최댓값 구하기\n",
    "    min_values = multi_simul_df_temp[rmse_O_columns].min()\n",
    "    max_values = multi_simul_df_temp[rmse_O_columns].max()\n",
    "\n",
    "    # display(multi_simul_df_temp.head(2))\n",
    "    \n",
    "    # --- now, calculate RMSEsel for each y.\n",
    "    # select rmse_O_ columns\n",
    "    rmse_O_columns = [col for col in multi_simul_df_temp.columns if col.startswith('rmse_O')]\n",
    "\n",
    "    # save the result by creating another df\n",
    "    rmse_sel_df = pd.DataFrame()\n",
    "\n",
    "    for col in rmse_O_columns:\n",
    "        rmse_min = min_values[col]\n",
    "        rmse_max = max_values[col]\n",
    "        # print(col, rmse_min, rmse_max)\n",
    "        # add the calculation result to new columns\n",
    "        rmse_sel_df[col] = [rmse_min + (rmse_max - rmse_min) * u]\n",
    "        rmse_sel = rmse_min + (rmse_max - rmse_min) * u\n",
    "        \n",
    "        # new columns for calculation\n",
    "        multi_simul_df_temp[col + '_sel'] = rmse_sel\n",
    "    \n",
    "        \n",
    "\n",
    "    return rmse_sel_df, multi_simul_df_temp\n",
    "    \n",
    "    \n"
   ]
  },
  {
   "cell_type": "markdown",
   "metadata": {},
   "source": [
    "## 2) preprocessing (2) - Sorting Y and X"
   ]
  },
  {
   "cell_type": "code",
   "execution_count": 206,
   "metadata": {
    "tags": []
   },
   "outputs": [],
   "source": [
    "def sorting_Y(multi_simul_df_rmse_sel):\n",
    "    '''\n",
    "    Count the cases where 'rmse' is smaller than 'rmse_sel'. If the counts are higher, that 'y' is calibrated first.\n",
    "    \n",
    "    Parameters\n",
    "    ----------\n",
    "    multi_simul_df_rmse_sel: result of multiple simulation that includes rmse and rmse_sel\n",
    "    \n",
    "    Returns\n",
    "    -------\n",
    "    DataFrame\n",
    "        A comma-separated values (csv) file is returned as two-dimensional\n",
    "        data structure with labeled axes.\n",
    "\n",
    "    Examples\n",
    "    --------\n",
    "    >>> y_seq_df = sorting_Y(multi_simul_df_rmse_sel)\n",
    "    '''          \n",
    "    \n",
    "    # Columns that starts with rmse_O\n",
    "    rmse_cols = [col for col in multi_simul_df_rmse_sel.columns if col.startswith('rmse_O')]\n",
    "    num_rmse_cols = int(len(rmse_cols)/2)\n",
    "    num_rmse_cols\n",
    "    \n",
    "    # Count rows that satisfies the condition (rmse < rmse_sel)\n",
    "    result_df = pd.DataFrame()\n",
    "    \n",
    "    for i in range(1, num_rmse_cols + 1):\n",
    "        rmse_col = f'rmse_O{i}'\n",
    "        sel_col = f'rmse_O{i}_sel'\n",
    "        count = multi_simul_df_rmse_sel[multi_simul_df_rmse_sel[rmse_col] < multi_simul_df_rmse_sel[sel_col]].shape[0]\n",
    "        \n",
    "        y_col = f'y{i}' # y_seq_df\n",
    "        # y_seq_df = y_seq_df.append({'y': y_col, 'count': count}, ignore_index=True)\n",
    "\n",
    "        y_col = f'y{i}'\n",
    "        y_seq_df = pd.DataFrame({'y': [y_col], 'count': [count]})\n",
    "        result_df = pd.concat([result_df, y_seq_df], ignore_index=True)\n",
    "        \n",
    "    # 'count' 컬럼을 기준으로 내림차순 정렬하여 'y' 값을 출력\n",
    "    sorted_y_seq_df = result_df.sort_values(by='count', ascending=False)\n",
    "\n",
    "    print('The order of Ys:', sorted_y_seq_df['y'].to_list())\n",
    "    \n",
    "    return result_df"
   ]
  },
  {
   "cell_type": "code",
   "execution_count": 221,
   "metadata": {
    "tags": []
   },
   "outputs": [],
   "source": [
    "def sorting_X(problem: dict, multi_simul_df_rmse_sel, GSA = 'RBD-FAST'):\n",
    "    \n",
    "    '''\n",
    "    \n",
    "    Sobol: Sobol’ Sensitivity Analysis\n",
    "    FAST: Fourier Amplitude Sensitivity Test\n",
    "    RBD-FAST: Random Balance Designs Fourier Amplitude Sensitivity Test\n",
    "    Delta: Delta Moment-Independent Measure\n",
    "    '''\n",
    "    # x_array\n",
    "    Xs = np.array(multi_simul_df_rmse_sel['comb'].to_list())\n",
    "    \n",
    "    # 'rmse_O'로 시작하고 '_sel'이 없는 컬럼들을 뽑아서 모든 값을 array로 만들어서 리스트에 저장\n",
    "    rmse_o_columns = [col for col in multi_simul_df_rmse_sel.columns if col.startswith('rmse_O') and not col.endswith('_sel')]\n",
    "    y_list = [np.array(multi_simul_df_rmse_sel[col]) for col in rmse_o_columns]\n",
    "\n",
    "\n",
    "    Si_list = []\n",
    "\n",
    "    for y in y_list:\n",
    "        \n",
    "        if GSA == 'Sobol':\n",
    "            Si = sobol.analyze(problem, y)\n",
    "            # print(Si['S1'])\n",
    "        elif GSA == 'FAST':\n",
    "            Si = fast.analyze(problem, y)\n",
    "        elif GSA == 'RBD-FAST':\n",
    "            Si = rbd_fast.analyze(problem, Xs, y)\n",
    "        elif GSA == 'Delta':\n",
    "            Si = delta.analyze(problem, Xs, y)\n",
    "            \n",
    "        Si_list.append(Si['S1']) # the first-order sensitivity indices\n",
    "    \n",
    "    # --- Now, we will return each first order sensitivity index\n",
    "    # calculate average of sensitiviry indices\n",
    "    averages = [sum(column) / len(column) for column in zip(*Si_list)]\n",
    "\n",
    "    # new dataframe\n",
    "    si_df = pd.DataFrame()\n",
    "\n",
    "    # insert x1, x2, x2... into 'Xs' column\n",
    "    si_df['Xs'] = [f'x{i}' for i in range(1, len(averages) + 1)]\n",
    "\n",
    "    # calculate average of Si and put those to 'first_order_Si' column\n",
    "    si_df['first_order_Si'] = averages\n",
    "    \n",
    "            \n",
    "    # print 'x' by decending order based on 'count' column\n",
    "    sorted_x_seq_df = si_df.sort_values(by='first_order_Si', ascending=False)\n",
    "\n",
    "    print('The order of Xs:', sorted_x_seq_df['Xs'].to_list())\n",
    "    \n",
    "    \n",
    "    return si_df"
   ]
  },
  {
   "cell_type": "code",
   "execution_count": null,
   "metadata": {},
   "outputs": [],
   "source": []
  },
  {
   "cell_type": "code",
   "execution_count": null,
   "metadata": {},
   "outputs": [],
   "source": []
  },
  {
   "cell_type": "markdown",
   "metadata": {},
   "source": [
    "# 사용자:"
   ]
  },
  {
   "cell_type": "code",
   "execution_count": 207,
   "metadata": {},
   "outputs": [],
   "source": [
    "# 시뮬레이션을 무작위로 돌린다.\n",
    "\n",
    "p1_list = [1,2,3,4,5]\n",
    "p2_list = [1,2,3,4,5]\n",
    "p3_list = [1,2,3,4,5]\n",
    "\n",
    "# set hyper parameters\n",
    "M = 150\n",
    "u = 0.1\n",
    "k = 3\n",
    "\n",
    "# ---  run simulations for M(2k+2) times ---\n",
    "multi_simul_df = multiple_simple_simulation(p1_list, p2_list, p3_list, M, u, k) "
   ]
  },
  {
   "cell_type": "code",
   "execution_count": 213,
   "metadata": {
    "tags": []
   },
   "outputs": [
    {
     "data": {
      "text/html": [
       "<div>\n",
       "<style scoped>\n",
       "    .dataframe tbody tr th:only-of-type {\n",
       "        vertical-align: middle;\n",
       "    }\n",
       "\n",
       "    .dataframe tbody tr th {\n",
       "        vertical-align: top;\n",
       "    }\n",
       "\n",
       "    .dataframe thead th {\n",
       "        text-align: right;\n",
       "    }\n",
       "</style>\n",
       "<table border=\"1\" class=\"dataframe\">\n",
       "  <thead>\n",
       "    <tr style=\"text-align: right;\">\n",
       "      <th></th>\n",
       "      <th>rmse_O1</th>\n",
       "      <th>rmse_O2</th>\n",
       "      <th>rmse_O3</th>\n",
       "    </tr>\n",
       "  </thead>\n",
       "  <tbody>\n",
       "    <tr>\n",
       "      <th>0</th>\n",
       "      <td>401.855343</td>\n",
       "      <td>50.487752</td>\n",
       "      <td>3.176924</td>\n",
       "    </tr>\n",
       "  </tbody>\n",
       "</table>\n",
       "</div>"
      ],
      "text/plain": [
       "      rmse_O1    rmse_O2   rmse_O3\n",
       "0  401.855343  50.487752  3.176924"
      ]
     },
     "execution_count": 213,
     "metadata": {},
     "output_type": "execute_result"
    }
   ],
   "source": [
    "# --- preprocessing 1: determining a criterion for calibration\n",
    "\n",
    "O_list = [O1, O2, O3] # observed data to list -> sqp.O1, sqp.O2, sqp.O3 를 넣어야 함.\n",
    "rmse_sel_df, multi_simul_df_rmse_sel = prep1_criterion(O_list, multi_simul_df, u, k)\n",
    "\n",
    "# now, we have the rmse_sel for all O.\n",
    "rmse_sel_df"
   ]
  },
  {
   "cell_type": "code",
   "execution_count": 214,
   "metadata": {
    "tags": []
   },
   "outputs": [
    {
     "name": "stdout",
     "output_type": "stream",
     "text": [
      "The order of Ys: ['y1', 'y3', 'y2']\n"
     ]
    },
    {
     "data": {
      "text/html": [
       "<div>\n",
       "<style scoped>\n",
       "    .dataframe tbody tr th:only-of-type {\n",
       "        vertical-align: middle;\n",
       "    }\n",
       "\n",
       "    .dataframe tbody tr th {\n",
       "        vertical-align: top;\n",
       "    }\n",
       "\n",
       "    .dataframe thead th {\n",
       "        text-align: right;\n",
       "    }\n",
       "</style>\n",
       "<table border=\"1\" class=\"dataframe\">\n",
       "  <thead>\n",
       "    <tr style=\"text-align: right;\">\n",
       "      <th></th>\n",
       "      <th>y</th>\n",
       "      <th>count</th>\n",
       "    </tr>\n",
       "  </thead>\n",
       "  <tbody>\n",
       "    <tr>\n",
       "      <th>0</th>\n",
       "      <td>y1</td>\n",
       "      <td>595</td>\n",
       "    </tr>\n",
       "    <tr>\n",
       "      <th>1</th>\n",
       "      <td>y2</td>\n",
       "      <td>174</td>\n",
       "    </tr>\n",
       "    <tr>\n",
       "      <th>2</th>\n",
       "      <td>y3</td>\n",
       "      <td>288</td>\n",
       "    </tr>\n",
       "  </tbody>\n",
       "</table>\n",
       "</div>"
      ],
      "text/plain": [
       "    y  count\n",
       "0  y1    595\n",
       "1  y2    174\n",
       "2  y3    288"
      ]
     },
     "execution_count": 214,
     "metadata": {},
     "output_type": "execute_result"
    }
   ],
   "source": [
    "# --- preprocessing 2: sorting Y for calibration\n",
    "\n",
    "y_seq_df = sorting_Y(multi_simul_df_rmse_sel)\n",
    "y_seq_df"
   ]
  },
  {
   "cell_type": "code",
   "execution_count": 222,
   "metadata": {
    "tags": []
   },
   "outputs": [
    {
     "name": "stdout",
     "output_type": "stream",
     "text": [
      "The order of Xs: ['x3', 'x2', 'x1']\n"
     ]
    },
    {
     "data": {
      "text/html": [
       "<div>\n",
       "<style scoped>\n",
       "    .dataframe tbody tr th:only-of-type {\n",
       "        vertical-align: middle;\n",
       "    }\n",
       "\n",
       "    .dataframe tbody tr th {\n",
       "        vertical-align: top;\n",
       "    }\n",
       "\n",
       "    .dataframe thead th {\n",
       "        text-align: right;\n",
       "    }\n",
       "</style>\n",
       "<table border=\"1\" class=\"dataframe\">\n",
       "  <thead>\n",
       "    <tr style=\"text-align: right;\">\n",
       "      <th></th>\n",
       "      <th>Xs</th>\n",
       "      <th>first_order_Si</th>\n",
       "    </tr>\n",
       "  </thead>\n",
       "  <tbody>\n",
       "    <tr>\n",
       "      <th>0</th>\n",
       "      <td>x1</td>\n",
       "      <td>0.012943</td>\n",
       "    </tr>\n",
       "    <tr>\n",
       "      <th>1</th>\n",
       "      <td>x2</td>\n",
       "      <td>0.045848</td>\n",
       "    </tr>\n",
       "    <tr>\n",
       "      <th>2</th>\n",
       "      <td>x3</td>\n",
       "      <td>0.634853</td>\n",
       "    </tr>\n",
       "  </tbody>\n",
       "</table>\n",
       "</div>"
      ],
      "text/plain": [
       "   Xs  first_order_Si\n",
       "0  x1        0.012943\n",
       "1  x2        0.045848\n",
       "2  x3        0.634853"
      ]
     },
     "execution_count": 222,
     "metadata": {},
     "output_type": "execute_result"
    }
   ],
   "source": [
    "# --- preprocessing 3: sorting X based on sensitivity analysis for calibration\n",
    "problem = {\n",
    "    'num_vars': 3,\n",
    "    'names': ['p1', 'p2', 'p3'],\n",
    "    'bounds': [[1, 5],\n",
    "               [1, 5],\n",
    "               [1, 5]]\n",
    "}\n",
    "\n",
    "Si_list = sorting_X(problem, multi_simul_df_rmse_sel, GSA = 'RBD-FAST')\n",
    "Si_list"
   ]
  },
  {
   "cell_type": "code",
   "execution_count": null,
   "metadata": {},
   "outputs": [],
   "source": []
  }
 ],
 "metadata": {
  "kernelspec": {
   "display_name": "Python 3 (ipykernel)",
   "language": "python",
   "name": "python3"
  },
  "language_info": {
   "codemirror_mode": {
    "name": "ipython",
    "version": 3
   },
   "file_extension": ".py",
   "mimetype": "text/x-python",
   "name": "python",
   "nbconvert_exporter": "python",
   "pygments_lexer": "ipython3",
   "version": "3.11.3"
  }
 },
 "nbformat": 4,
 "nbformat_minor": 4
}
